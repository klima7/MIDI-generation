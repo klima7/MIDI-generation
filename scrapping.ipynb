{
 "cells": [
  {
   "cell_type": "code",
   "execution_count": 76,
   "metadata": {},
   "outputs": [],
   "source": [
    "import requests\n",
    "from pathlib import Path\n",
    "from urllib.request import urlretrieve\n",
    "from urllib.error import HTTPError\n",
    "from bs4 import BeautifulSoup\n",
    "from joblib import Parallel, delayed\n",
    "from tqdm import tqdm"
   ]
  },
  {
   "cell_type": "markdown",
   "metadata": {},
   "source": [
    "## VGMusic"
   ]
  },
  {
   "cell_type": "code",
   "execution_count": 77,
   "metadata": {},
   "outputs": [],
   "source": [
    "def get_systems_links():\n",
    "    response = requests.get('https://www.vgmusic.com/')\n",
    "    soup = BeautifulSoup(response.content, 'html.parser')\n",
    "    menu = soup.find('a', href='/music/console/nintendo/nes/').parent\n",
    "    categories = menu.find_all('a')\n",
    "    links = {category.text: 'https://www.vgmusic.com/' + category['href'] for category in categories}\n",
    "    return links"
   ]
  },
  {
   "cell_type": "code",
   "execution_count": 78,
   "metadata": {},
   "outputs": [],
   "source": [
    "def get_midi_links(system_link, system_name):\n",
    "    response = requests.get(system_link)\n",
    "    soup = BeautifulSoup(response.content, 'html.parser')\n",
    "    trs = soup.find_all('tr')\n",
    "    \n",
    "    links = []\n",
    "    game_name = None\n",
    "    for tr in trs:\n",
    "        if 'class' in tr.attrs and 'gameheader' in tr['class']:\n",
    "            game_name = tr.find('td').text\n",
    "        \n",
    "        tds = tr.find_all('td')\n",
    "        anchors = [list(td.children)[0] for td in tds if len(list(td.children)) > 0 and list(td.children)[0].name == 'a']\n",
    "        for anchor in anchors:\n",
    "            if not '.mid' in anchor['href']:\n",
    "                continue\n",
    "            entry = {\n",
    "                'system': system_name,\n",
    "                'game': game_name,\n",
    "                'song': anchor.text,\n",
    "                'link': system_link + anchor['href'].lstrip('/')\n",
    "            }\n",
    "            links.append(entry)\n",
    "            \n",
    "    return links"
   ]
  },
  {
   "cell_type": "code",
   "execution_count": 79,
   "metadata": {},
   "outputs": [],
   "source": [
    "def get_all_midi_links():\n",
    "    all_links = []\n",
    "    systems_links = get_systems_links()\n",
    "    for system_name, system_link in tqdm(systems_links.items(), 'scrapping systems'):\n",
    "        links = get_midi_links(system_link, system_name)\n",
    "        all_links.extend(links)\n",
    "    return all_links"
   ]
  },
  {
   "cell_type": "code",
   "execution_count": 81,
   "metadata": {},
   "outputs": [],
   "source": [
    "def download_midi(entry):\n",
    "    path = Path('../../data/vgmusic') / entry['system'] / entry['game'] / (entry['song'].replace('/', ' ').replace('\\\\', ' ') + '.mid')\n",
    "    path.parent.mkdir(parents=True, exist_ok=True)\n",
    "    if not path.exists():\n",
    "        urlretrieve(entry['link'], str(path))"
   ]
  },
  {
   "cell_type": "code",
   "execution_count": null,
   "metadata": {},
   "outputs": [
    {
     "name": "stderr",
     "output_type": "stream",
     "text": [
      "scrapping systems:   0%|          | 0/56 [00:00<?, ?it/s]"
     ]
    },
    {
     "name": "stderr",
     "output_type": "stream",
     "text": [
      "scrapping systems: 100%|██████████| 56/56 [00:45<00:00,  1.24it/s]\n"
     ]
    }
   ],
   "source": [
    "links = get_all_midi_links()"
   ]
  },
  {
   "cell_type": "code",
   "execution_count": null,
   "metadata": {},
   "outputs": [],
   "source": [
    "Parallel(n_jobs=256)(delayed(download_midi)(link) for link in links)"
   ]
  },
  {
   "cell_type": "markdown",
   "metadata": {},
   "source": [
    "## khinsider.com"
   ]
  },
  {
   "cell_type": "code",
   "execution_count": 60,
   "metadata": {},
   "outputs": [],
   "source": [
    "def get_links(parent_link):\n",
    "    response = requests.get(parent_link)\n",
    "    soup = BeautifulSoup(response.content, 'html.parser')\n",
    "    content_page = soup.find('div', class_='content-page')\n",
    "    rows = content_page.find('table').find_all('tr')\n",
    "    first_column = [list(row.find_all('td'))[0] for row in rows]\n",
    "    anchors = [list(cell.children)[0] for cell in first_column if len(list(cell.children)) > 0 and list(cell.children)[0].name == 'a']\n",
    "    links = {anchor.text: anchor['href'] for anchor in anchors}\n",
    "    return links\n",
    "\n",
    "def get_systems_links():\n",
    "    return get_links('https://www.khinsider.com/midi')\n",
    "\n",
    "def get_games_links(system_link):\n",
    "    return get_links(system_link)\n",
    "\n",
    "def get_songs_links(game_link):\n",
    "    return get_links(game_link)\n",
    "\n",
    "def get_all_songs_links():\n",
    "    links = []\n",
    "    for system_name, system_link in tqdm(get_systems_links().items()):\n",
    "        for game_name, game_link in get_games_links(system_link).items():\n",
    "            for song_name, song_link in get_songs_links(game_link).items():\n",
    "                entry = {\n",
    "                    'system': system_name,\n",
    "                    'game': game_name,\n",
    "                    'song': song_name,\n",
    "                    'link': song_link\n",
    "                }\n",
    "                links.append(entry)\n",
    "    return links"
   ]
  },
  {
   "cell_type": "code",
   "execution_count": 74,
   "metadata": {},
   "outputs": [],
   "source": [
    "def download_midi(entry):\n",
    "    path = Path('../../data/khinsider') / entry['system'] / entry['game'] / (entry['song'] + '.mid')\n",
    "    path.parent.mkdir(parents=True, exist_ok=True)\n",
    "    if not path.exists():\n",
    "        try:\n",
    "            urlretrieve(entry['link'], str(path))\n",
    "        except Exception as e:\n",
    "            print('error:', str(e))"
   ]
  },
  {
   "cell_type": "code",
   "execution_count": 61,
   "metadata": {},
   "outputs": [
    {
     "name": "stderr",
     "output_type": "stream",
     "text": [
      "100%|██████████| 39/39 [31:53<00:00, 49.07s/it] \n"
     ]
    }
   ],
   "source": [
    "songs_links = get_all_songs_links()"
   ]
  },
  {
   "cell_type": "code",
   "execution_count": null,
   "metadata": {},
   "outputs": [],
   "source": [
    "Parallel(n_jobs=256)(delayed(download_midi)(link) for link in songs_links)"
   ]
  },
  {
   "cell_type": "code",
   "execution_count": 63,
   "metadata": {},
   "outputs": [
    {
     "data": {
      "text/plain": [
       "19998"
      ]
     },
     "execution_count": 63,
     "metadata": {},
     "output_type": "execute_result"
    }
   ],
   "source": [
    "len(songs_links)"
   ]
  },
  {
   "cell_type": "code",
   "execution_count": 48,
   "metadata": {},
   "outputs": [],
   "source": []
  },
  {
   "cell_type": "code",
   "execution_count": 51,
   "metadata": {},
   "outputs": [],
   "source": [
    "def get_songs_links(system_link):\n",
    "    response = requests.get(system_link)\n",
    "    soup = BeautifulSoup(response.content, 'html.parser')\n",
    "    content_page = soup.find('div', class_='content-page')\n",
    "    rows = content_page.find('table').find_all('tr')\n",
    "    first_column = [list(row.find_all('td'))[0] for row in rows]\n",
    "    anchors = [list(cell.children)[0] for cell in first_column if len(list(cell.children)) > 0 and list(cell.children)[0].name == 'a']\n",
    "    links = {anchor.text: anchor['href'] for anchor in anchors}\n",
    "    return links"
   ]
  },
  {
   "cell_type": "code",
   "execution_count": 52,
   "metadata": {},
   "outputs": [
    {
     "data": {
      "text/plain": [
       "{'damage theme v1 1': 'https://files.khinsider.com/midifiles/2600/pitfall-2/damage-theme-v1-1-.mid',\n",
       " 'field': 'https://files.khinsider.com/midifiles/2600/pitfall-2/field.mid',\n",
       " 'theme': 'https://files.khinsider.com/midifiles/2600/pitfall-2/theme.mid',\n",
       " 'theme 2  v1 1': 'https://files.khinsider.com/midifiles/2600/pitfall-2/theme-2-v1-1-.mid',\n",
       " 'theme 3': 'https://files.khinsider.com/midifiles/2600/pitfall-2/theme-3-.mid'}"
      ]
     },
     "execution_count": 52,
     "metadata": {},
     "output_type": "execute_result"
    }
   ],
   "source": [
    "get_songs_links('https://www.khinsider.com/midi/2600/pitfall-2')"
   ]
  },
  {
   "cell_type": "code",
   "execution_count": 49,
   "metadata": {},
   "outputs": [
    {
     "data": {
      "text/plain": [
       "{'Asteroids': 'https://www.khinsider.com/midi/2600/asteroids',\n",
       " 'Cookie Monster Munch': 'https://www.khinsider.com/midi/2600/cookie-monster-munch',\n",
       " 'Defender 2': 'https://www.khinsider.com/midi/2600/defender-2',\n",
       " 'Double Dunk': 'https://www.khinsider.com/midi/2600/double-dunk',\n",
       " 'E.T. - The Extra Terrestrial': 'https://www.khinsider.com/midi/2600/e.t.-the-extra-terrestrial',\n",
       " 'Frogger': 'https://www.khinsider.com/midi/2600/frogger',\n",
       " 'Frogger II': 'https://www.khinsider.com/midi/2600/frogger-ii',\n",
       " 'Kool-Aid Man': 'https://www.khinsider.com/midi/2600/kool-aid-man',\n",
       " 'Kung Fu Master': 'https://www.khinsider.com/midi/2600/kung-fu-master',\n",
       " 'M*A*S*H*': 'https://www.khinsider.com/midi/2600/m-a-s-h-',\n",
       " 'PacMan': 'https://www.khinsider.com/midi/2600/pacman',\n",
       " 'Pitfall': 'https://www.khinsider.com/midi/2600/pitfall',\n",
       " 'Pitfall 2': 'https://www.khinsider.com/midi/2600/pitfall-2',\n",
       " 'Pressure Cooker': 'https://www.khinsider.com/midi/2600/pressure-cooker',\n",
       " 'Secret Quest': 'https://www.khinsider.com/midi/2600/secret-quest',\n",
       " 'Smurfrees': 'https://www.khinsider.com/midi/2600/smurfrees',\n",
       " 'Squeeze Box': 'https://www.khinsider.com/midi/2600/squeeze-box',\n",
       " 'Xenophobe': 'https://www.khinsider.com/midi/2600/xenophobe'}"
      ]
     },
     "execution_count": 49,
     "metadata": {},
     "output_type": "execute_result"
    }
   ],
   "source": [
    "get_games_links(list(systems_links.values())[0])"
   ]
  },
  {
   "cell_type": "code",
   "execution_count": 44,
   "metadata": {},
   "outputs": [],
   "source": [
    "links = get_systems_links()"
   ]
  }
 ],
 "metadata": {
  "kernelspec": {
   "display_name": "midi",
   "language": "python",
   "name": "python3"
  },
  "language_info": {
   "codemirror_mode": {
    "name": "ipython",
    "version": 3
   },
   "file_extension": ".py",
   "mimetype": "text/x-python",
   "name": "python",
   "nbconvert_exporter": "python",
   "pygments_lexer": "ipython3",
   "version": "3.10.9"
  }
 },
 "nbformat": 4,
 "nbformat_minor": 2
}
