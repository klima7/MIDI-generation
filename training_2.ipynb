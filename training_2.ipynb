{
 "cells": [
  {
   "cell_type": "code",
   "execution_count": 1,
   "metadata": {},
   "outputs": [
    {
     "name": "stderr",
     "output_type": "stream",
     "text": [
      "/home/lklimkiewicz/.local/lib/python3.10/site-packages/tqdm/auto.py:21: TqdmWarning: IProgress not found. Please update jupyter and ipywidgets. See https://ipywidgets.readthedocs.io/en/stable/user_install.html\n",
      "  from .autonotebook import tqdm as notebook_tqdm\n"
     ]
    }
   ],
   "source": [
    "import os\n",
    "import random\n",
    "\n",
    "import torch\n",
    "from torch.utils.data import DataLoader\n",
    "from miditok import REMI, TokenizerConfig, MIDITokenizer, TokSequence\n",
    "from miditok.pytorch_data import DatasetMIDI, DatasetJSON, DataCollator, split_midis_for_training\n",
    "from miditok.data_augmentation import augment_midi_dataset\n",
    "from miditok.utils import get_midi_programs\n",
    "from pathlib import Path\n",
    "from symusic import Score\n",
    "import wandb\n",
    "from tqdm import tqdm\n",
    "\n",
    "from transformers.models.opt.modeling_opt import OPTForCausalLM"
   ]
  },
  {
   "cell_type": "markdown",
   "metadata": {},
   "source": [
    "## Tokenizer"
   ]
  },
  {
   "cell_type": "code",
   "execution_count": 2,
   "metadata": {},
   "outputs": [],
   "source": [
    "midi_paths = list(Path(\"/home/lklimkiewicz/priv/midi/data\").glob(\"**/*.mid\"))"
   ]
  },
  {
   "cell_type": "code",
   "execution_count": 3,
   "metadata": {},
   "outputs": [],
   "source": [
    "tokenizer_config = TokenizerConfig(num_velocities=16, use_chords=True, use_programs=True)\n",
    "tokenizer = REMI(tokenizer_config)"
   ]
  },
  {
   "cell_type": "code",
   "execution_count": 4,
   "metadata": {},
   "outputs": [
    {
     "name": "stdout",
     "output_type": "stream",
     "text": [
      "\n",
      "\n",
      "\n"
     ]
    }
   ],
   "source": [
    "random.shuffle(midi_paths)\n",
    "tokenizer.learn_bpe(vocab_size=30000, files_paths=midi_paths[:1000])"
   ]
  },
  {
   "cell_type": "code",
   "execution_count": 5,
   "metadata": {},
   "outputs": [],
   "source": [
    "# saving\n",
    "tokenizer.save_pretrained('../logs/tokenizer2')"
   ]
  },
  {
   "cell_type": "code",
   "execution_count": 3,
   "metadata": {},
   "outputs": [
    {
     "name": "stderr",
     "output_type": "stream",
     "text": [
      "config.json not found in /home/lklimkiewicz/priv/midi/logs/tokenizer2\n"
     ]
    }
   ],
   "source": [
    "# loading\n",
    "tokenizer = MIDITokenizer.from_pretrained('../logs/tokenizer2')"
   ]
  },
  {
   "cell_type": "markdown",
   "metadata": {},
   "source": [
    "## Model"
   ]
  },
  {
   "cell_type": "code",
   "execution_count": 4,
   "metadata": {},
   "outputs": [],
   "source": [
    "from transformers import AutoConfig, AutoModel, AutoModelForCausalLM"
   ]
  },
  {
   "cell_type": "code",
   "execution_count": 6,
   "metadata": {},
   "outputs": [],
   "source": [
    "config = AutoConfig.from_pretrained(\n",
    "    'facebook/opt-125m',\n",
    "    bos_token_id=tokenizer['BOS_None'],\n",
    "    eos_token_id=tokenizer['EOS_None'],\n",
    "    pad_token_id=tokenizer['PAD_None'],\n",
    "    vocab_size=len(tokenizer),\n",
    "    prefix=None,\n",
    "    max_length=1024,\n",
    "    do_sample=True,\n",
    ")"
   ]
  },
  {
   "cell_type": "code",
   "execution_count": 7,
   "metadata": {},
   "outputs": [],
   "source": [
    "model = AutoModelForCausalLM.from_config(config)"
   ]
  },
  {
   "cell_type": "markdown",
   "metadata": {},
   "source": [
    "## Split dataset"
   ]
  },
  {
   "cell_type": "code",
   "execution_count": 6,
   "metadata": {},
   "outputs": [],
   "source": [
    "midi_paths = list(Path(\"/home/lklimkiewicz/priv/midi/data\").glob(\"**/*.mid\"))"
   ]
  },
  {
   "cell_type": "code",
   "execution_count": 8,
   "metadata": {},
   "outputs": [],
   "source": [
    "def filter_dataset(paths, val_fun):\n",
    "    correct = []\n",
    "    for path in tqdm(paths):\n",
    "        try:\n",
    "            midi = Score(path)\n",
    "            if val_fun(midi):\n",
    "                correct.append(path)\n",
    "        except:\n",
    "            os.remove(path)\n",
    "    return correct"
   ]
  },
  {
   "cell_type": "code",
   "execution_count": 9,
   "metadata": {},
   "outputs": [
    {
     "name": "stdout",
     "output_type": "stream",
     "text": [
      "Initial count: 1067913\n"
     ]
    },
    {
     "name": "stderr",
     "output_type": "stream",
     "text": [
      " 14%|█▍        | 151477/1067913 [01:55<10:38, 1434.76it/s] Division type 1 have no tpq.\n",
      " 15%|█▌        | 162690/1067913 [02:03<10:08, 1488.41it/s]Division type 1 have no tpq.\n",
      " 38%|███▊      | 403524/1067913 [04:56<07:09, 1548.06it/s]Division type 1 have no tpq.\n",
      " 39%|███▉      | 420722/1067913 [05:07<06:53, 1566.63it/s]Division type 1 have no tpq.\n",
      " 41%|████      | 439315/1067913 [05:18<06:28, 1619.31it/s]Division type 1 have no tpq.\n",
      " 52%|█████▏    | 558252/1067913 [06:51<13:24, 633.39it/s]  Division type 1 have no tpq.\n",
      " 53%|█████▎    | 569424/1067913 [07:02<05:39, 1467.48it/s]Division type 1 have no tpq.\n",
      "100%|██████████| 1067913/1067913 [13:06<00:00, 1357.29it/s]\n"
     ]
    },
    {
     "name": "stdout",
     "output_type": "stream",
     "text": [
      "Filtered count: 766717\n"
     ]
    }
   ],
   "source": [
    "print('Initial count:', len(midi_paths))\n",
    "\n",
    "def midi_valid(midi) -> bool:\n",
    "    if midi.note_num() < 50 or len(midi.time_signatures) == 0 or len(midi.tempos) == 0:\n",
    "        return False\n",
    "    \n",
    "    for time_sig in midi.time_signatures:\n",
    "        if time_sig.denominator == 0 or time_sig.numerator == 0:\n",
    "            return False\n",
    "    \n",
    "    return True\n",
    "\n",
    "midi_paths = filter_dataset(midi_paths, midi_valid)\n",
    "\n",
    "print('Filtered count:', len(midi_paths))"
   ]
  },
  {
   "cell_type": "code",
   "execution_count": null,
   "metadata": {},
   "outputs": [],
   "source": [
    "split_midis_for_training(\n",
    "    files_paths=midi_paths,\n",
    "    tokenizer=tokenizer,\n",
    "    save_dir=Path('./chunks_for_training'),\n",
    "    max_seq_len=1024,\n",
    ")"
   ]
  },
  {
   "cell_type": "markdown",
   "metadata": {},
   "source": [
    "## Tokenize dataset"
   ]
  },
  {
   "cell_type": "code",
   "execution_count": 4,
   "metadata": {},
   "outputs": [
    {
     "name": "stderr",
     "output_type": "stream",
     "text": [
      "Tokenizing MIDIs (tokenized_dataset/khinsider):  44%|████▍     | 42160/95341 [09:03<15:17, 57.94it/s] "
     ]
    },
    {
     "name": "stdout",
     "output_type": "stream",
     "text": [
      "."
     ]
    },
    {
     "name": "stderr",
     "output_type": "stream",
     "text": [
      "Tokenizing MIDIs (tokenized_dataset/khinsider):  44%|████▍     | 42198/95341 [09:04<16:28, 53.78it/s]"
     ]
    },
    {
     "name": "stdout",
     "output_type": "stream",
     "text": [
      "."
     ]
    },
    {
     "name": "stderr",
     "output_type": "stream",
     "text": [
      "Tokenizing MIDIs (tokenized_dataset/khinsider): 100%|██████████| 95341/95341 [21:09<00:00, 75.09it/s] \n"
     ]
    }
   ],
   "source": [
    "midi_paths = list(Path(\"/home/lklimkiewicz/priv/midi/src/chunks_for_training/khinsider\").glob(\"**/*.mid\"))\n",
    "tokenizer.tokenize_midi_dataset(midi_paths, out_dir=\"tokenized_dataset/khinsider\", save_programs=True)"
   ]
  },
  {
   "cell_type": "markdown",
   "metadata": {},
   "source": [
    "## Augment dataset"
   ]
  },
  {
   "cell_type": "code",
   "execution_count": 7,
   "metadata": {},
   "outputs": [
    {
     "name": "stderr",
     "output_type": "stream",
     "text": [
      "Performing data augmentation: 0it [00:00, ?it/s]\n"
     ]
    }
   ],
   "source": [
    "augment_midi_dataset(\n",
    "    Path('/home/lklimkiewicz/priv/midi/src/tokenized_dataset'),\n",
    "    pitch_offsets=[-12, 12],\n",
    "    velocity_offsets=[-4, 5],\n",
    "    duration_offsets=[-0.5, 1],\n",
    "    out_path=\"./augmented_dataset\",\n",
    ")"
   ]
  },
  {
   "cell_type": "markdown",
   "metadata": {},
   "source": [
    "## Load dataset"
   ]
  },
  {
   "cell_type": "code",
   "execution_count": 8,
   "metadata": {},
   "outputs": [],
   "source": [
    "midi_paths = list(Path(\"/home/lklimkiewicz/priv/midi/src/chunks_for_training_2\").glob(\"**/*.mid\"))\n",
    "\n",
    "dataset = DatasetMIDI(\n",
    "    files_paths=midi_paths,\n",
    "    tokenizer=tokenizer,\n",
    "    max_seq_len=1024,\n",
    "    bos_token_id=tokenizer[\"BOS_None\"],\n",
    "    eos_token_id=tokenizer[\"EOS_None\"],\n",
    ")\n",
    "\n",
    "# json_paths = list(Path(\"/home/lklimkiewicz/priv/midi/src/tokenized_dataset\").glob(\"**/*.json\"))\n",
    "\n",
    "# dataset = DatasetJSON(\n",
    "#     files_paths=json_paths,\n",
    "#     max_seq_len=1024,\n",
    "#     bos_token_id=tokenizer[\"BOS_None\"],\n",
    "#     eos_token_id=tokenizer[\"EOS_None\"],\n",
    "# )\n",
    "\n",
    "collator = DataCollator(\n",
    "    tokenizer[\"PAD_None\"],\n",
    "    copy_inputs_as_labels=True,\n",
    "    shift_labels=True,\n",
    ")"
   ]
  },
  {
   "cell_type": "markdown",
   "metadata": {},
   "source": [
    "## Train"
   ]
  },
  {
   "cell_type": "code",
   "execution_count": 9,
   "metadata": {},
   "outputs": [],
   "source": [
    "from transformers import Trainer, TrainingArguments, TrainerCallback, TrainerState, TrainerControl"
   ]
  },
  {
   "cell_type": "code",
   "execution_count": 10,
   "metadata": {},
   "outputs": [],
   "source": [
    "class MidiGenerationCallback(TrainerCallback):\n",
    "    def on_step_end(self, args: TrainingArguments, state: TrainerState, control: TrainerControl, **kwargs):\n",
    "        if state.global_step % 500 == 0:\n",
    "            \n",
    "            input = torch.tensor([[tokenizer['BOS_None']]], device=model.device)\n",
    "            midi = model.generate(input, max_new_tokens=1024)\n",
    "            generated_ts = TokSequence(ids=midi.tolist()[0], ids_bpe_encoded=True)\n",
    "            generated_score = tokenizer(generated_ts)\n",
    "            generated_score.dump_midi(f'outputs/v1/step-{state.global_step}.mid')\n",
    "            \n",
    "            input = torch.tensor([[4]], device=model.device)\n",
    "            midi = model.generate(input, max_new_tokens=1024)\n",
    "            generated_ts = TokSequence(ids=midi.tolist()[0], ids_bpe_encoded=True)\n",
    "            generated_score = tokenizer(generated_ts)\n",
    "            generated_score.dump_midi(f'outputs/v2/step-{state.global_step}.mid')"
   ]
  },
  {
   "cell_type": "code",
   "execution_count": 11,
   "metadata": {},
   "outputs": [],
   "source": [
    "training_args = TrainingArguments(\n",
    "    output_dir=\"test_trainer\",\n",
    "    per_device_train_batch_size=4,\n",
    "    report_to=\"wandb\",\n",
    "    bf16=True,\n",
    "    dataloader_num_workers=24,\n",
    "    logging_strategy=\"steps\",\n",
    "    logging_steps=100,\n",
    "    save_strategy=\"steps\",\n",
    "    lr_scheduler_type=\"cosine\",\n",
    "    warmup_steps=2000,\n",
    "    save_steps=1000,\n",
    "    save_total_limit=5,\n",
    "    num_train_epochs=1,\n",
    "    label_smoothing_factor=0.2,\n",
    "    torch_compile=True,\n",
    ")"
   ]
  },
  {
   "cell_type": "code",
   "execution_count": 12,
   "metadata": {},
   "outputs": [],
   "source": [
    "trainer = Trainer(\n",
    "    model=model,\n",
    "    args=training_args,\n",
    "    train_dataset=dataset,\n",
    "    data_collator=collator,\n",
    "    tokenizer=tokenizer,\n",
    "    callbacks=[MidiGenerationCallback()]\n",
    ")"
   ]
  },
  {
   "cell_type": "code",
   "execution_count": 13,
   "metadata": {},
   "outputs": [],
   "source": [
    "os.environ[\"WANDB_PROJECT\"] = \"midi\"\n",
    "os.environ[\"WANDB_LOG_MODEL\"] = \"checkpoint\""
   ]
  },
  {
   "cell_type": "code",
   "execution_count": null,
   "metadata": {},
   "outputs": [],
   "source": [
    "trainer.train(resume_from_checkpoint=True)"
   ]
  },
  {
   "cell_type": "code",
   "execution_count": null,
   "metadata": {},
   "outputs": [],
   "source": [
    "model.save_pretrained('../logs/model2', tokenizer=tokenizer)"
   ]
  },
  {
   "cell_type": "code",
   "execution_count": 16,
   "metadata": {},
   "outputs": [],
   "source": [
    "tokenizer.save_pretrained('../logs/tokenizer2')"
   ]
  },
  {
   "cell_type": "code",
   "execution_count": null,
   "metadata": {},
   "outputs": [],
   "source": [
    "wandb.finish()"
   ]
  }
 ],
 "metadata": {
  "kernelspec": {
   "display_name": "midi2",
   "language": "python",
   "name": "python3"
  },
  "language_info": {
   "codemirror_mode": {
    "name": "ipython",
    "version": 3
   },
   "file_extension": ".py",
   "mimetype": "text/x-python",
   "name": "python",
   "nbconvert_exporter": "python",
   "pygments_lexer": "ipython3",
   "version": "3.10.9"
  }
 },
 "nbformat": 4,
 "nbformat_minor": 2
}
